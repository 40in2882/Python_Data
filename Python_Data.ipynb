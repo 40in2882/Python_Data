{
 "cells": [
  {
   "cell_type": "markdown",
   "id": "9ffa8d46-ac58-4555-9cb7-fb181f48b240",
   "metadata": {},
   "source": [
    "# Создание и доступ к базе данных SQLite с помощью Python"
   ]
  },
  {
   "cell_type": "markdown",
   "id": "f51ca7a9-216f-4b4d-9ff8-411206dff26e",
   "metadata": {},
   "source": [
    "## Задача 1: Создать базу данных с использованием SQLite"
   ]
  },
  {
   "cell_type": "code",
   "execution_count": 1,
   "id": "7d1d04b7-9c19-4738-a821-a3f0ed695fb6",
   "metadata": {},
   "outputs": [],
   "source": [
    "#Install & load sqlite3\n",
    "\n",
    "#!pip install sqlite3  ##Uncomment this code only if you are working in a local environment to install sqlite3\n",
    "import sqlite3"
   ]
  },
  {
   "cell_type": "code",
   "execution_count": 2,
   "id": "174ee1b5-3fad-4a6d-a062-d43b0cf8056d",
   "metadata": {},
   "outputs": [],
   "source": [
    "# Connecting to sqlite\n",
    "# connection object\n",
    "conn = sqlite3.connect('INSTRUCTOR.db')"
   ]
  },
  {
   "cell_type": "markdown",
   "id": "eb64fe86-decc-4a7d-980e-24c077be99fc",
   "metadata": {},
   "source": [
    "### Класс Cursor — это экземпляр, с помощью которого можно вызывать методы, которые выполняют операторы SQLite, извлекают данные из наборов результатов запросов. Вы можете создать объект Cursor, используя метод cursor() объекта/класса Connection."
   ]
  },
  {
   "cell_type": "code",
   "execution_count": 4,
   "id": "f96af434-7809-4f71-b9b9-5bc18d5d8d77",
   "metadata": {},
   "outputs": [],
   "source": [
    "# cursor object\n",
    "cursor_obj = conn.cursor()"
   ]
  },
  {
   "cell_type": "markdown",
   "id": "2ef5323f-1685-4004-82a3-5d5b34577756",
   "metadata": {},
   "source": [
    "## Задача 2: Создать таблицу в базе данных"
   ]
  },
  {
   "cell_type": "markdown",
   "id": "b1611a8c-ab3a-407a-8738-60438f00dfb6",
   "metadata": {},
   "source": [
    "### Прежде чем создавать таблицу, давайте сначала проверим, существует ли она уже или нет. Чтобы удалить таблицу из базы данных, используйте запрос DROP. Курсор — это объект, который помогает выполнить запрос и извлечь записи из базы данных."
   ]
  },
  {
   "cell_type": "code",
   "execution_count": 5,
   "id": "72eea107-4b57-4bcf-9f19-df1fa789a64d",
   "metadata": {},
   "outputs": [
    {
     "data": {
      "text/plain": [
       "<sqlite3.Cursor at 0x7f5e69c9e440>"
      ]
     },
     "execution_count": 5,
     "metadata": {},
     "output_type": "execute_result"
    }
   ],
   "source": [
    "# Drop the table if already exists.\n",
    "cursor_obj.execute(\"DROP TABLE IF EXISTS INSTRUCTOR\")"
   ]
  },
  {
   "cell_type": "code",
   "execution_count": 6,
   "id": "0766ef63-4f36-4441-ae12-542e92f11325",
   "metadata": {},
   "outputs": [
    {
     "name": "stdout",
     "output_type": "stream",
     "text": [
      "Table is Ready\n"
     ]
    }
   ],
   "source": [
    "# Creating table\n",
    "table = \"\"\" create table IF NOT EXISTS INSTRUCTOR(ID INTEGER PRIMARY KEY NOT NULL, FNAME VARCHAR(20), LNAME VARCHAR(20), CITY VARCHAR(20), CCODE CHAR(2));\"\"\"\n",
    " \n",
    "cursor_obj.execute(table)\n",
    " \n",
    "print(\"Table is Ready\")"
   ]
  },
  {
   "cell_type": "markdown",
   "id": "b729db39-1ec8-4f34-aa75-03ae0252fb3d",
   "metadata": {},
   "source": [
    "## Задача 3: Вставьте данные в таблицу"
   ]
  },
  {
   "cell_type": "code",
   "execution_count": 7,
   "id": "4a98167e-1331-4240-8d61-dc61f8644d46",
   "metadata": {},
   "outputs": [
    {
     "data": {
      "text/plain": [
       "<sqlite3.Cursor at 0x7f5e69c9e440>"
      ]
     },
     "execution_count": 7,
     "metadata": {},
     "output_type": "execute_result"
    }
   ],
   "source": [
    "cursor_obj.execute('''insert into INSTRUCTOR values (1, 'Rav', 'Ahuja', 'TORONTO', 'CA')''')"
   ]
  },
  {
   "cell_type": "code",
   "execution_count": 8,
   "id": "89f49062-dbef-43f4-95d9-ed095234ff5d",
   "metadata": {},
   "outputs": [
    {
     "data": {
      "text/plain": [
       "<sqlite3.Cursor at 0x7f5e69c9e440>"
      ]
     },
     "execution_count": 8,
     "metadata": {},
     "output_type": "execute_result"
    }
   ],
   "source": [
    "cursor_obj.execute('''insert into INSTRUCTOR values (2, 'Raul', 'Chong', 'Markham', 'CA'), (3, 'Hima', 'Vasudevan', 'Chicago', 'US')''')"
   ]
  },
  {
   "cell_type": "markdown",
   "id": "eb48202b-a842-4a07-a6af-6b401c222e5b",
   "metadata": {},
   "source": [
    "## Задача 4: Запрос данных в таблице"
   ]
  },
  {
   "cell_type": "code",
   "execution_count": 10,
   "id": "6c761439-322f-4f9f-a35c-684b329937d1",
   "metadata": {},
   "outputs": [
    {
     "name": "stdout",
     "output_type": "stream",
     "text": [
      "All the data\n",
      "(1, 'Rav', 'Ahuja', 'TORONTO', 'CA')\n",
      "(2, 'Raul', 'Chong', 'Markham', 'CA')\n",
      "(3, 'Hima', 'Vasudevan', 'Chicago', 'US')\n"
     ]
    }
   ],
   "source": [
    "statement = '''SELECT * FROM INSTRUCTOR'''\n",
    "cursor_obj.execute(statement)\n",
    "\n",
    "print(\"All the data\")\n",
    "output_all = cursor_obj.fetchall()\n",
    "for row_all in output_all:\n",
    "  print(row_all)"
   ]
  },
  {
   "cell_type": "code",
   "execution_count": 11,
   "id": "a709c94a-251e-47f7-b1ca-20f7fcd32c16",
   "metadata": {},
   "outputs": [
    {
     "name": "stdout",
     "output_type": "stream",
     "text": [
      "All the data\n",
      "(1, 'Rav', 'Ahuja', 'TORONTO', 'CA')\n",
      "(2, 'Raul', 'Chong', 'Markham', 'CA')\n"
     ]
    }
   ],
   "source": [
    "## Fetch few rows from the table\n",
    "statement = '''SELECT * FROM INSTRUCTOR'''\n",
    "cursor_obj.execute(statement)\n",
    "  \n",
    "print(\"All the data\")\n",
    "# If you want to fetch few rows from the table we use fetchmany(numberofrows) and mention the number how many rows you want to fetch\n",
    "output_many = cursor_obj.fetchmany(2) \n",
    "for row_many in output_many:\n",
    "  print(row_many)"
   ]
  },
  {
   "cell_type": "code",
   "execution_count": 12,
   "id": "0b4491c0-ce27-43b7-b01c-7689d715ebdd",
   "metadata": {},
   "outputs": [
    {
     "name": "stdout",
     "output_type": "stream",
     "text": [
      "All the data\n",
      "('Rav',)\n",
      "('Raul',)\n",
      "('Hima',)\n"
     ]
    }
   ],
   "source": [
    "# Fetch only FNAME from the table\n",
    "statement = '''SELECT FNAME FROM INSTRUCTOR'''\n",
    "cursor_obj.execute(statement)\n",
    "  \n",
    "print(\"All the data\")\n",
    "output_column = cursor_obj.fetchall()\n",
    "for fetch in output_column:\n",
    "  print(fetch)"
   ]
  },
  {
   "cell_type": "markdown",
   "id": "fb123b11-11e5-4256-ab15-178c3c3eafe3",
   "metadata": {},
   "source": [
    "### теперь напишите и выполните оператор обновления, который изменит ГОРОД Рава на МУСИТАУН"
   ]
  },
  {
   "cell_type": "code",
   "execution_count": 13,
   "id": "69a3af98-7266-4892-b1f2-fbf0176ed92e",
   "metadata": {},
   "outputs": [
    {
     "data": {
      "text/plain": [
       "<sqlite3.Cursor at 0x7f5e69c9e440>"
      ]
     },
     "execution_count": 13,
     "metadata": {},
     "output_type": "execute_result"
    }
   ],
   "source": [
    "query_update='''update INSTRUCTOR set CITY='MOOSETOWN' where FNAME=\"Rav\"'''\n",
    "cursor_obj.execute(query_update)"
   ]
  },
  {
   "cell_type": "code",
   "execution_count": 14,
   "id": "4bf9fba3-42b0-494b-bda0-747ceea6f3d4",
   "metadata": {},
   "outputs": [
    {
     "name": "stdout",
     "output_type": "stream",
     "text": [
      "All the data\n",
      "(1, 'Rav', 'Ahuja', 'MOOSETOWN', 'CA')\n",
      "(2, 'Raul', 'Chong', 'Markham', 'CA')\n"
     ]
    }
   ],
   "source": [
    "statement = '''SELECT * FROM INSTRUCTOR'''\n",
    "cursor_obj.execute(statement)\n",
    "  \n",
    "print(\"All the data\")\n",
    "output1 = cursor_obj.fetchmany(2)\n",
    "for row in output1:\n",
    "  print(row)"
   ]
  },
  {
   "cell_type": "markdown",
   "id": "2715b8b8-4b91-42a6-9608-f76882698dde",
   "metadata": {},
   "source": [
    "## Задача 5: Извлечение данных в Pandas"
   ]
  },
  {
   "cell_type": "code",
   "execution_count": 17,
   "id": "24c7a0c0-3ec8-4bd3-8a85-7717be54e18e",
   "metadata": {},
   "outputs": [
    {
     "data": {
      "text/html": [
       "<div>\n",
       "<style scoped>\n",
       "    .dataframe tbody tr th:only-of-type {\n",
       "        vertical-align: middle;\n",
       "    }\n",
       "\n",
       "    .dataframe tbody tr th {\n",
       "        vertical-align: top;\n",
       "    }\n",
       "\n",
       "    .dataframe thead th {\n",
       "        text-align: right;\n",
       "    }\n",
       "</style>\n",
       "<table border=\"1\" class=\"dataframe\">\n",
       "  <thead>\n",
       "    <tr style=\"text-align: right;\">\n",
       "      <th></th>\n",
       "      <th>ID</th>\n",
       "      <th>FNAME</th>\n",
       "      <th>LNAME</th>\n",
       "      <th>CITY</th>\n",
       "      <th>CCODE</th>\n",
       "    </tr>\n",
       "  </thead>\n",
       "  <tbody>\n",
       "    <tr>\n",
       "      <th>0</th>\n",
       "      <td>1</td>\n",
       "      <td>Rav</td>\n",
       "      <td>Ahuja</td>\n",
       "      <td>MOOSETOWN</td>\n",
       "      <td>CA</td>\n",
       "    </tr>\n",
       "    <tr>\n",
       "      <th>1</th>\n",
       "      <td>2</td>\n",
       "      <td>Raul</td>\n",
       "      <td>Chong</td>\n",
       "      <td>Markham</td>\n",
       "      <td>CA</td>\n",
       "    </tr>\n",
       "    <tr>\n",
       "      <th>2</th>\n",
       "      <td>3</td>\n",
       "      <td>Hima</td>\n",
       "      <td>Vasudevan</td>\n",
       "      <td>Chicago</td>\n",
       "      <td>US</td>\n",
       "    </tr>\n",
       "  </tbody>\n",
       "</table>\n",
       "</div>"
      ],
      "text/plain": [
       "   ID FNAME      LNAME       CITY CCODE\n",
       "0   1   Rav      Ahuja  MOOSETOWN    CA\n",
       "1   2  Raul      Chong    Markham    CA\n",
       "2   3  Hima  Vasudevan    Chicago    US"
      ]
     },
     "execution_count": 17,
     "metadata": {},
     "output_type": "execute_result"
    }
   ],
   "source": [
    "import pandas as pd\n",
    "#retrieve the query results into a pandas dataframe\n",
    "df = pd.read_sql_query(\"select * from instructor;\", conn)\n",
    "#print the dataframe\n",
    "df"
   ]
  },
  {
   "cell_type": "markdown",
   "id": "6b3132be-1f93-4422-a007-3f9cc3d93ae3",
   "metadata": {},
   "source": [
    "### можете использовать метод shape, чтобы увидеть, сколько строк и столбцов находится в фрейме данных"
   ]
  },
  {
   "cell_type": "code",
   "execution_count": 18,
   "id": "9e9192c1-20a4-4118-8007-fd5ac072f409",
   "metadata": {},
   "outputs": [
    {
     "data": {
      "text/plain": [
       "(3, 5)"
      ]
     },
     "execution_count": 18,
     "metadata": {},
     "output_type": "execute_result"
    }
   ],
   "source": [
    "df.shape"
   ]
  },
  {
   "cell_type": "code",
   "execution_count": 19,
   "id": "cfbb4498-6b36-4b84-b93e-997ccf2666da",
   "metadata": {},
   "outputs": [
    {
     "data": {
      "text/plain": [
       "'Ahuja'"
      ]
     },
     "execution_count": 19,
     "metadata": {},
     "output_type": "execute_result"
    }
   ],
   "source": [
    "df.LNAME[0]"
   ]
  },
  {
   "cell_type": "markdown",
   "id": "52bfd070-1867-41cb-b248-762af9a4348d",
   "metadata": {},
   "source": [
    "## Задача 6: Закрыть соединение"
   ]
  },
  {
   "cell_type": "code",
   "execution_count": 20,
   "id": "45a39e1c-8464-4b32-b0ed-8aedcb571466",
   "metadata": {},
   "outputs": [],
   "source": [
    "conn.close()"
   ]
  },
  {
   "cell_type": "code",
   "execution_count": null,
   "id": "f1083af0-0aaa-4836-8ba2-8fb1d6a8083b",
   "metadata": {},
   "outputs": [],
   "source": []
  }
 ],
 "metadata": {
  "kernelspec": {
   "display_name": "anaconda-ai-2024.04-py310",
   "language": "python",
   "name": "conda-env-anaconda-ai-2024.04-py310-py"
  },
  "language_info": {
   "codemirror_mode": {
    "name": "ipython",
    "version": 3
   },
   "file_extension": ".py",
   "mimetype": "text/x-python",
   "name": "python",
   "nbconvert_exporter": "python",
   "pygments_lexer": "ipython3",
   "version": "3.10.13"
  }
 },
 "nbformat": 4,
 "nbformat_minor": 5
}
